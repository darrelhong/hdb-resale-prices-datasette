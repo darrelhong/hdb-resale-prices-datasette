{
 "cells": [
  {
   "cell_type": "code",
   "execution_count": null,
   "metadata": {},
   "outputs": [],
   "source": [
    "import pandas as pd\n",
    "import requests"
   ]
  },
  {
   "cell_type": "code",
   "execution_count": null,
   "metadata": {},
   "outputs": [],
   "source": [
    "def get_latlong(search_val):\n",
    "    params = {\"searchVal\": search_val, \"returnGeom\": \"Y\", \"getAddrDetails\": \"Y\"}\n",
    "    r = requests.get(f\"https://developers.onemap.sg/commonapi/search\", params=params)\n",
    "    resp = r.json()\n",
    "    result = resp[\"results\"][0]\n",
    "    return {'lat': result[\"LATITUDE\"], 'long': result[\"LONGITUDE\"]}\n"
   ]
  },
  {
   "cell_type": "code",
   "execution_count": null,
   "metadata": {},
   "outputs": [],
   "source": [
    "blocks_df = (\n",
    "    transaction_df.groupby([\"block\", \"street_name\"])\n",
    "    .size()\n",
    "    .reset_index()[[\"block\", \"street_name\"]]\n",
    ")\n",
    "blocks_df\n"
   ]
  },
  {
   "cell_type": "code",
   "execution_count": null,
   "metadata": {},
   "outputs": [],
   "source": [
    "new_blocks_lat_long = []\n",
    "errors = []\n",
    "for row in blocks_df.itertuples():\n",
    "    search_val = f\"{row.block} {row.street_name}\"\n",
    "    row_lat_long = {}\n",
    "    try:\n",
    "        row_lat_long = {**row_lat_long, **get_latlong(search_val)}\n",
    "    except:\n",
    "        errors.append(search_val)\n",
    "    row_lat_long[\"block\"] = row.block\n",
    "    row_lat_long[\"street_name\"] = row.street_name\n",
    "    print(row_lat_long)\n",
    "    new_blocks_lat_long.append(row_lat_long)\n",
    "\n",
    "print(errors)\n",
    "new_blocks_lat_long\n"
   ]
  }
 ],
 "metadata": {
  "language_info": {
   "name": "python"
  },
  "orig_nbformat": 4
 },
 "nbformat": 4,
 "nbformat_minor": 2
}
