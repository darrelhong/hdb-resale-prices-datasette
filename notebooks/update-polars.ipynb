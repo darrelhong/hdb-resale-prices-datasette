{
 "cells": [
  {
   "cell_type": "code",
   "execution_count": null,
   "metadata": {},
   "outputs": [],
   "source": [
    "import polars as pl\n"
   ]
  },
  {
   "cell_type": "code",
   "execution_count": null,
   "metadata": {},
   "outputs": [],
   "source": [
    "jan_2017_to_now_df = pl.read_csv(\n",
    "    \"./datasets/resale-flat-prices-based-on-registration-date-from-jan-2017-onwards.csv\",\n",
    "    dtypes={\"floor_area_sqm\": pl.Float32, \"resale_price\": pl.Float32},\n",
    ")"
   ]
  },
  {
   "cell_type": "code",
   "execution_count": null,
   "metadata": {},
   "outputs": [],
   "source": [
    "jan_2017_to_now_df = jan_2017_to_now_df.with_columns(\n",
    "    remaining_lease_years=pl.col(\"remaining_lease\")\n",
    "    .str.split(\" \")\n",
    "    .list.get(0)\n",
    "    .cast(pl.Int64),\n",
    ")"
   ]
  },
  {
   "cell_type": "code",
   "execution_count": null,
   "metadata": {},
   "outputs": [],
   "source": [
    "jan_2017_to_now_df"
   ]
  },
  {
   "cell_type": "code",
   "execution_count": null,
   "metadata": {},
   "outputs": [],
   "source": [
    "jan_1990_dec_2016_df = pl.read_csv(\n",
    "    \"./resale-flat-prices-jan-1990-dec-2016.csv\",\n",
    "    dtypes={\"floor_area_sqm\": pl.Float32, \"resale_price\": pl.Float32, \"block\": pl.Utf8},\n",
    ")"
   ]
  },
  {
   "cell_type": "code",
   "execution_count": null,
   "metadata": {},
   "outputs": [],
   "source": [
    "jan_1990_dec_2016_df"
   ]
  },
  {
   "cell_type": "code",
   "execution_count": null,
   "metadata": {},
   "outputs": [],
   "source": [
    "jan_1990_now_df = pl.concat([jan_1990_dec_2016_df, jan_2017_to_now_df], how=\"diagonal\")\n",
    "jan_1990_now_df = jan_1990_now_df.sort(\"month\")\n",
    "jan_1990_now_df"
   ]
  },
  {
   "cell_type": "code",
   "execution_count": null,
   "metadata": {},
   "outputs": [],
   "source": [
    "jan_1990_now_df = jan_1990_now_df.with_columns(\n",
    "    block_street_name=pl.col(\"block\") + \" \" + pl.col(\"street_name\")\n",
    ")\n",
    "jan_1990_now_df"
   ]
  },
  {
   "cell_type": "code",
   "execution_count": null,
   "metadata": {},
   "outputs": [],
   "source": [
    "unique_block_street_name = jan_1990_now_df.select([\"block\", 'street_name']).unique()\n",
    "unique_block_street_name.sort(['block', 'street_name'])"
   ]
  },
  {
   "cell_type": "code",
   "execution_count": null,
   "metadata": {},
   "outputs": [],
   "source": [
    "blocks_from_csv = pl.read_csv(\"./blocks_from_resale.csv\")\n",
    "blocks_from_csv"
   ]
  },
  {
   "cell_type": "code",
   "execution_count": null,
   "metadata": {},
   "outputs": [],
   "source": [
    "new_blocks = unique_block_street_name.join(blocks_from_csv, how=\"anti\", on=[\"block\", \"street_name\"])\n",
    "new_blocks"
   ]
  },
  {
   "cell_type": "code",
   "execution_count": null,
   "metadata": {},
   "outputs": [],
   "source": [
    "import requests"
   ]
  },
  {
   "cell_type": "code",
   "execution_count": null,
   "metadata": {},
   "outputs": [],
   "source": [
    "def get_latlong(search_val):\n",
    "    params = {\"searchVal\": search_val, \"returnGeom\": \"Y\", \"getAddrDetails\": \"Y\"}\n",
    "    r = requests.get(f\"https://onemap.gov.sg/api/common/elastic/search\", params=params)\n",
    "    resp = r.json()\n",
    "    result = resp[\"results\"][0]\n",
    "    return {'latitude': float(result[\"LATITUDE\"]), 'longitude': float(result[\"LONGITUDE\"])}"
   ]
  },
  {
   "cell_type": "code",
   "execution_count": null,
   "metadata": {},
   "outputs": [],
   "source": [
    "new_blocks_lat_long = []\n",
    "errors = []\n",
    "\n",
    "for row in new_blocks.iter_rows(named=True):\n",
    "    search_val = f\"{row['block']} {row['street_name']}\"\n",
    "    try:\n",
    "        lat_long = get_latlong(search_val)\n",
    "        row_lat_long = {**row, **lat_long}\n",
    "        new_blocks_lat_long.append(row_lat_long) \n",
    "    except Exception as e:\n",
    "        print(e)\n",
    "        errors.append(search_val, e)\n",
    "\n",
    "print(errors)\n",
    "new_blocks_lat_long"
   ]
  },
  {
   "cell_type": "code",
   "execution_count": null,
   "metadata": {},
   "outputs": [],
   "source": [
    "new_blocks_lat_long_df = pl.DataFrame(new_blocks_lat_long)\n",
    "new_blocks_lat_long_df = new_blocks_lat_long_df.with_columns(\n",
    "    block_street_name=pl.col(\"block\") + \" \" + pl.col(\"street_name\")\n",
    ")\n",
    "new_blocks_lat_long_df = new_blocks_lat_long_df.drop([\"block\", \"street_name\"])\n",
    "new_blocks_lat_long_df"
   ]
  },
  {
   "cell_type": "code",
   "execution_count": null,
   "metadata": {},
   "outputs": [],
   "source": [
    "resale_blocks_geocode_df = pl.read_csv(\"./resale_blocks_geocode_block_street_name.csv\")\n",
    "resale_blocks_geocode_df"
   ]
  },
  {
   "cell_type": "code",
   "execution_count": null,
   "metadata": {},
   "outputs": [],
   "source": [
    "new_resale_blocks_geocode_df = pl.concat([resale_blocks_geocode_df, new_blocks_lat_long_df], how=\"diagonal\")\n",
    "new_resale_blocks_geocode_df"
   ]
  },
  {
   "cell_type": "code",
   "execution_count": null,
   "metadata": {},
   "outputs": [],
   "source": [
    "new_resale_blocks_geocode_df.write_csv(\"./new_resale_blocks_geocode.csv\")"
   ]
  },
  {
   "cell_type": "code",
   "execution_count": null,
   "metadata": {},
   "outputs": [],
   "source": []
  }
 ],
 "metadata": {
  "kernelspec": {
   "display_name": "venv",
   "language": "python",
   "name": "python3"
  },
  "language_info": {
   "codemirror_mode": {
    "name": "ipython",
    "version": 3
   },
   "file_extension": ".py",
   "mimetype": "text/x-python",
   "name": "python",
   "nbconvert_exporter": "python",
   "pygments_lexer": "ipython3",
   "version": "3.11.9"
  }
 },
 "nbformat": 4,
 "nbformat_minor": 2
}
