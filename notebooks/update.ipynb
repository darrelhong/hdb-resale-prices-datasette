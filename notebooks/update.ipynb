{
 "cells": [
  {
   "cell_type": "code",
   "execution_count": null,
   "metadata": {},
   "outputs": [],
   "source": [
    "import pandas as pd\n"
   ]
  },
  {
   "cell_type": "code",
   "execution_count": null,
   "metadata": {},
   "outputs": [],
   "source": [
    "jan_2017_now_df = pd.read_csv(\n",
    "    \"../data/resale-flat-prices-based-on-registration-date-from-jan-2017-onwards.csv\"\n",
    ")\n",
    "\n",
    "jan_2017_now_df[\"remaining_lease_years\"] = (\n",
    "    jan_2017_now_df[\"remaining_lease\"].str.split(\" \").str.get(0)\n",
    ")\n",
    "jan_2017_now_df = jan_2017_now_df.sort_values(\"month\")\n",
    "jan_2017_now_df\n"
   ]
  },
  {
   "cell_type": "code",
   "execution_count": null,
   "metadata": {},
   "outputs": [],
   "source": [
    "jan_1990_dec_2016_df = pd.read_csv(\"../data/resale-flat-prices-jan-1990-dec-2016.csv\")\n"
   ]
  },
  {
   "cell_type": "code",
   "execution_count": null,
   "metadata": {},
   "outputs": [],
   "source": [
    "jan_1990_now_df = pd.concat([jan_1990_dec_2016_df, jan_2017_now_df])\n",
    "jan_1990_now_df = jan_1990_now_df.sort_values(\"month\")\n",
    "jan_1990_now_df\n"
   ]
  },
  {
   "cell_type": "code",
   "execution_count": null,
   "metadata": {},
   "outputs": [],
   "source": [
    "jan_1990_now_df['block_street_name'] = jan_1990_now_df['block'] + \" \" + jan_1990_now_df['street_name']\n",
    "jan_1990_now_df"
   ]
  },
  {
   "cell_type": "code",
   "execution_count": null,
   "metadata": {},
   "outputs": [],
   "source": [
    "geocode = pd.read_csv('../data/resale_blocks_geocode_block_street_name.csv')\n",
    "geocode"
   ]
  },
  {
   "cell_type": "code",
   "execution_count": null,
   "metadata": {},
   "outputs": [],
   "source": [
    "jan_1990_now_lat_long_df = pd.merge(\n",
    "    jan_1990_now_df, geocode, how=\"left\", on=\"block_street_name\"\n",
    ")\n",
    "jan_1990_now_lat_long_df = jan_1990_now_lat_long_df.drop(\n",
    "    labels=\"block_street_name\", axis=1\n",
    ")\n",
    "jan_1990_now_lat_long_df = jan_1990_now_lat_long_df.sort_values(\n",
    "    \"month\", ascending=False\n",
    ")\n",
    "jan_1990_now_lat_long_df\n"
   ]
  },
  {
   "cell_type": "code",
   "execution_count": null,
   "metadata": {},
   "outputs": [],
   "source": [
    "jan_1990_now_lat_long_df.to_csv('../data/resale.csv', index=False)"
   ]
  }
 ],
 "metadata": {
  "kernelspec": {
   "display_name": "venv",
   "language": "python",
   "name": "python3"
  },
  "language_info": {
   "codemirror_mode": {
    "name": "ipython",
    "version": 3
   },
   "file_extension": ".py",
   "mimetype": "text/x-python",
   "name": "python",
   "nbconvert_exporter": "python",
   "pygments_lexer": "ipython3",
   "version": "3.11.2"
  },
  "orig_nbformat": 4,
  "vscode": {
   "interpreter": {
    "hash": "ddd77ecba5f30bdb60a6d01cbefd45764f5238f42a79bb932d680f2d22314a41"
   }
  }
 },
 "nbformat": 4,
 "nbformat_minor": 2
}
