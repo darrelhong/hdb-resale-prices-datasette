{
 "cells": [
  {
   "cell_type": "code",
   "execution_count": null,
   "metadata": {},
   "outputs": [],
   "source": [
    "import pandas as pd\n"
   ]
  },
  {
   "cell_type": "code",
   "execution_count": null,
   "metadata": {},
   "outputs": [],
   "source": [
    "# jan 2017 date onwards\n",
    "jan_2017_now = pd.read_csv(\n",
    "    \"resale-flat-prices-based-on-registration-date-from-jan-2017-onwards.csv\"\n",
    ")\n",
    "\n",
    "jan_2017_now[\"remaining_lease_years\"] = (\n",
    "    jan_2017_now[\"remaining_lease\"].str.split(\" \").str.get(0)\n",
    ")\n",
    "jan_2017_now = jan_2017_now.sort_values(\"month\")\n",
    "jan_2017_now\n"
   ]
  },
  {
   "cell_type": "code",
   "execution_count": null,
   "metadata": {},
   "outputs": [],
   "source": [
    "# jan 2015 - dec 2016\n",
    "jan_2015_dec_2016_df = pd.read_csv(\n",
    "    \"resale-flat-prices-based-on-registration-date-from-jan-2015-to-dec-2016.csv\"\n",
    ")\n",
    "\n",
    "jan_2015_dec_2016_df[\"remaining_lease_years\"] = jan_2015_dec_2016_df[\"remaining_lease\"]\n",
    "jan_2015_dec_2016_df = jan_2015_dec_2016_df.sort_values(\"month\")\n",
    "jan_2015_dec_2016_df\n"
   ]
  },
  {
   "cell_type": "code",
   "execution_count": null,
   "metadata": {},
   "outputs": [],
   "source": [
    "# pre dec 2014\n",
    "filenames = [\n",
    "    \"resale-flat-prices-based-on-registration-date-from-mar-2012-to-dec-2014.csv\",\n",
    "    \"resale-flat-prices-based-on-approval-date-2000-feb-2012.csv\",\n",
    "    \"resale-flat-prices-based-on-approval-date-1990-1999.csv\",\n",
    "]\n",
    "\n",
    "jan_1990_dec_2014_df = pd.DataFrame()\n",
    "\n",
    "for filename in filenames:\n",
    "    df = pd.read_csv(filename)\n",
    "    df[\"remaining_lease_years\"] = 99 - (\n",
    "        df[\"month\"].str.split(\"-\").str.get(0).apply(pd.to_numeric)\n",
    "        - df[\"lease_commence_date\"].apply(pd.to_numeric)\n",
    "    )\n",
    "    jan_1990_dec_2014_df = pd.concat([jan_1990_dec_2014_df, df])\n",
    "jan_1990_dec_2014_df = jan_1990_dec_2014_df.sort_values(\"month\")\n",
    "jan_1990_dec_2014_df\n"
   ]
  },
  {
   "cell_type": "code",
   "execution_count": null,
   "metadata": {},
   "outputs": [],
   "source": [
    "# save jan 1990 to dec 2016\n",
    "jan_1990_dec_2016_df = pd.concat([jan_1990_dec_2014_df, jan_2015_dec_2016_df])\n",
    "jan_1990_dec_2016_df = jan_1990_dec_2016_df.sort_values(\"month\")\n",
    "jan_1990_dec_2016_df\n"
   ]
  },
  {
   "cell_type": "code",
   "execution_count": null,
   "metadata": {},
   "outputs": [],
   "source": [
    "jan_1990_dec_2016_df.to_csv(\"resale-flat-prices-jan-1990-dec-2016.csv\", index=False)\n"
   ]
  }
 ],
 "metadata": {
  "kernelspec": {
   "display_name": "venv",
   "language": "python",
   "name": "python3"
  },
  "language_info": {
   "codemirror_mode": {
    "name": "ipython",
    "version": 3
   },
   "file_extension": ".py",
   "mimetype": "text/x-python",
   "name": "python",
   "nbconvert_exporter": "python",
   "pygments_lexer": "ipython3",
   "version": "3.11.2"
  },
  "orig_nbformat": 4,
  "vscode": {
   "interpreter": {
    "hash": "ddd77ecba5f30bdb60a6d01cbefd45764f5238f42a79bb932d680f2d22314a41"
   }
  }
 },
 "nbformat": 4,
 "nbformat_minor": 2
}
